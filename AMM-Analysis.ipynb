{
 "cells": [
  {
   "cell_type": "code",
   "execution_count": 1,
   "metadata": {},
   "outputs": [],
   "source": [
    "import numpy as np\n",
    "import pandas as pd\n",
    "import matplotlib.pyplot as plt"
   ]
  },
  {
   "cell_type": "code",
   "execution_count": 58,
   "metadata": {},
   "outputs": [],
   "source": [
    "def get_nfts(num_nfts):\n",
    "  return np.linspace(1, num_nfts, num_nfts)\n",
    "\n",
    "# Given number of nfts and price, returns the buy/sell price at each instantaneous point\n",
    "# Returns instantaneous price, buy price, sell price (per row), slippage\n",
    "def constant_product(num_nfts, nft_price):\n",
    "  x = num_nfts\n",
    "  y = num_nfts*nft_price\n",
    "  k = x*y\n",
    "  xs = get_nfts(num_nfts*2)\n",
    "  ys = np.zeros(len(xs))\n",
    "  prices = np.zeros((len(xs), 4))\n",
    "  for index, x_value in enumerate(xs):\n",
    "    y_value = k/x_value\n",
    "    ys[index] = y_value\n",
    "  for index, y_value in enumerate(ys):\n",
    "    buy_price = 0\n",
    "    sell_price = 0\n",
    "    if index > 0:\n",
    "      buy_price = ys[index-1]-ys[index]\n",
    "    if index < len(ys)-1:\n",
    "      sell_price = ys[index]-ys[index+1]\n",
    "    instant_price = y_value/(index+1)\n",
    "    prices[index] = [instant_price, buy_price, sell_price, (buy_price-sell_price)/instant_price]\n",
    "  return prices\n",
    "\n",
    "# Given a list of prices (like the kind `constant_product` above returns)\n",
    "# a starting price, and a multiplier, will return the prices that fall into this range\n",
    "def liquidity_depth(prices, spot_price, multiplier):\n",
    "  min_price = spot_price/multiplier\n",
    "  max_price = spot_price*multiplier\n",
    "  start_index = -1\n",
    "  end_index = -1\n",
    "  for index, p in enumerate(prices):\n",
    "    buy_price = p[1]\n",
    "    sell_price = p[2]\n",
    "    if start_index == -1:\n",
    "      if (buy_price != 0 and buy_price < max_price) or sell_price < max_price:\n",
    "        start_index = index\n",
    "    if end_index == -1:\n",
    "      if (buy_price != 0 and buy_price < min_price) or sell_price < min_price:\n",
    "        end_index = index\n",
    "  if end_index == -1:\n",
    "    end_index = len(prices)\n",
    "  if start_index == -1:\n",
    "    start_index = 0\n",
    "  return min_price, max_price, prices[start_index:end_index+1,:]\n",
    "\n",
    "# Given a list of prices, a starting price, and the number of nfts to buy/sell,\n",
    "# will return the average price to buy/sell that number of nfts\n",
    "def avg_price(prices, spot_price, num_nfts_to_transact, is_buy):\n",
    "  middle_index = int(len(prices)/2)-1\n",
    "#   assert(prices[middle_index][0] == spot_price)\n",
    "  if is_buy:\n",
    "    total = np.sum(prices[middle_index-num_nfts_to_transact+1:middle_index+1, 1])\n",
    "  else:\n",
    "    total = np.sum(prices[middle_index:middle_index+num_nfts_to_transact, 2])\n",
    "  return total/num_nfts_to_transact"
   ]
  },
  {
   "cell_type": "code",
   "execution_count": 3,
   "metadata": {},
   "outputs": [
    {
     "data": {
      "text/plain": [
       "1.3888888888888893"
      ]
     },
     "execution_count": 3,
     "metadata": {},
     "output_type": "execute_result"
    }
   ],
   "source": [
    "num_nfts = 10\n",
    "spot_price = 1\n",
    "depth_multiplier = 1.5\n",
    "\n",
    "prices = constant_product(num_nfts, spot_price)\n",
    "avg_price(prices, spot_price, 1, True)"
   ]
  },
  {
   "cell_type": "code",
   "execution_count": 4,
   "metadata": {},
   "outputs": [
    {
     "data": {
      "image/png": "[encoded data removed]",
      "text/plain": [
       "<Figure size 432x288 with 1 Axes>"
      ]
     },
     "metadata": {
      "image/png": {
       "height": 248,
       "width": 368
      },
      "needs_background": "light"
     },
     "output_type": "display_data"
    }
   ],
   "source": [
    "# Liquidity around a price (+/-) X% scales linearly with the amount of liquidity \n",
    "# placed into the pool for constant product\n",
    "range_lengths = []\n",
    "for i in range(1, 21):\n",
    "  num_nfts = i*10\n",
    "  prices = constant_product(num_nfts, spot_price)\n",
    "  min_price, max_price, price_range = liquidity_depth(prices, spot_price, depth_multiplier)\n",
    "  range_lengths.append(len(price_range))\n",
    "plt.scatter(get_nfts(20), range_lengths)\n",
    "plt.show()"
   ]
  },
  {
   "cell_type": "code",
   "execution_count": 29,
   "metadata": {},
   "outputs": [],
   "source": [
    "# Given number of nfts, price, delta\n",
    "# Returns instantaneous price, buy price, sell price (per row), slippage\n",
    "def linear_curve(num_nfts, nft_price, delta):\n",
    "    prices = np.zeros((num_nfts*2, 4))\n",
    "    for i in range(-num_nfts, num_nfts):\n",
    "      buy_price = nft_price + (i+1)*delta\n",
    "      sell_price = nft_price + (i)*delta\n",
    "      # insert in sequential order \n",
    "      prices[-(i+num_nfts)-1] = [num_nfts-i,\n",
    "                                 buy_price, sell_price, (buy_price-sell_price)/(buy_price+sell_price)]\n",
    "    return prices\n",
    "\n",
    "# Given number of nfts, price, delta\n",
    "# Returns instantaneous price, buy price, sell price (per row), slippage\n",
    "def exponential_curve(num_nfts, nft_price, delta):\n",
    "    assert(delta > 1)\n",
    "    prices = np.zeros((num_nfts*2, 4))\n",
    "    for i in range(-num_nfts, num_nfts):\n",
    "      buy_price = nft_price * np.power([delta], i)\n",
    "      sell_price = nft_price * np.power([delta], i-1)\n",
    "      # insert in sequential order \n",
    "      prices[-(i+num_nfts)-1] = [num_nfts-i,\n",
    "                                 buy_price, sell_price, (buy_price-sell_price)/(buy_price+sell_price)]\n",
    "    return prices"
   ]
  },
  {
   "cell_type": "code",
   "execution_count": 71,
   "metadata": {},
   "outputs": [],
   "source": [
    "num_nfts = 10\n",
    "prices = [constant_product(num_nfts, spot_price),\n",
    "         linear_curve(num_nfts, spot_price, spot_price/num_nfts),\n",
    "         exponential_curve(num_nfts, spot_price, 1+1/(num_nfts))]\n",
    "\n",
    "range_multipliers = [1.25, 1.5, 1.75, 2.0, 3.0, 4.0]\n",
    "\n",
    "coverage = np.zeros((len(prices), len(range_multipliers)))\n",
    "\n",
    "for x, m in enumerate(range_multipliers):\n",
    "  for y, p in enumerate(prices):\n",
    "    p1, p2, ranges = liquidity_depth(p, spot_price, m)\n",
    "    coverage[y, x] = len(ranges)/len(p)"
   ]
  },
  {
   "cell_type": "code",
   "execution_count": 72,
   "metadata": {},
   "outputs": [
    {
     "data": {
      "text/plain": [
       "array([[0.15, 0.25, 0.3 , 0.4 , 0.6 , 0.8 ],\n",
       "       [0.3 , 0.45, 0.65, 0.8 , 0.85, 0.9 ],\n",
       "       [0.3 , 0.5 , 0.6 , 0.8 , 1.  , 1.  ]])"
      ]
     },
     "execution_count": 72,
     "metadata": {},
     "output_type": "execute_result"
    }
   ],
   "source": [
    "coverage"
   ]
  },
  {
   "cell_type": "code",
   "execution_count": 32,
   "metadata": {},
   "outputs": [
    {
     "data": {
      "text/plain": [
       "array([[ 1.        ,  2.35794769,  2.14358881,  0.04761905],\n",
       "       [ 2.        ,  2.14358881,  1.9487171 ,  0.04761905],\n",
       "       [ 3.        ,  1.9487171 ,  1.771561  ,  0.04761905],\n",
       "       [ 4.        ,  1.771561  ,  1.61051   ,  0.04761905],\n",
       "       [ 5.        ,  1.61051   ,  1.4641    ,  0.04761905],\n",
       "       [ 6.        ,  1.4641    ,  1.331     ,  0.04761905],\n",
       "       [ 7.        ,  1.331     ,  1.21      ,  0.04761905],\n",
       "       [ 8.        ,  1.21      ,  1.1       ,  0.04761905],\n",
       "       [ 9.        ,  1.1       ,  1.        ,  0.04761905],\n",
       "       [10.        ,  1.        ,  0.90909091,  0.04761905],\n",
       "       [11.        ,  0.90909091,  0.82644628,  0.04761905],\n",
       "       [12.        ,  0.82644628,  0.7513148 ,  0.04761905],\n",
       "       [13.        ,  0.7513148 ,  0.68301346,  0.04761905],\n",
       "       [14.        ,  0.68301346,  0.62092132,  0.04761905],\n",
       "       [15.        ,  0.62092132,  0.56447393,  0.04761905],\n",
       "       [16.        ,  0.56447393,  0.51315812,  0.04761905],\n",
       "       [17.        ,  0.51315812,  0.46650738,  0.04761905],\n",
       "       [18.        ,  0.46650738,  0.42409762,  0.04761905],\n",
       "       [19.        ,  0.42409762,  0.38554329,  0.04761905],\n",
       "       [20.        ,  0.38554329,  0.3504939 ,  0.04761905]])"
      ]
     },
     "execution_count": 32,
     "metadata": {},
     "output_type": "execute_result"
    }
   ],
   "source": [
    "prices[2]"
   ]
  },
  {
   "cell_type": "code",
   "execution_count": 73,
   "metadata": {
    "scrolled": false
   },
   "outputs": [],
   "source": [
    "prices[2][:, 3] = prices[2][:, 3]*100 \n",
    "table = pd.DataFrame(prices[2][:, 1:],\n",
    "             index=[str(i) + \" NFTs in Pool\" for i in range(1, num_nfts*2+1)],\n",
    "             columns=[\"ETH Price to Buy 1 NFT\", \"ETH Price to Sell 1 NFT\", \"Slippage % between Buy/Sell\"]\n",
    "            )\n",
    "table = table.round(3)"
   ]
  },
  {
   "cell_type": "code",
   "execution_count": 37,
   "metadata": {},
   "outputs": [],
   "source": [
    "buy_prices = []\n",
    "sell_prices = []\n",
    "\n",
    "for i in range(1, 6):\n",
    "  buy_prices.append(avg_price(prices[2], spot_price, i, True))\n",
    "  sell_prices.append(avg_price(prices[2], spot_price, i, False))"
   ]
  },
  {
   "cell_type": "code",
   "execution_count": 74,
   "metadata": {},
   "outputs": [],
   "source": [
    "table = pd.DataFrame(np.array([buy_prices, sell_prices]),\n",
    "             columns=[\"For 1 NFT\", \"For 2 NFTs\", \"For 3 NFTs\", \"For 4 NFTs\", \"For 5 NFTs\"],\n",
    "             index=[\"Avg Buying Price\", \"Avg Selling Price\"])\n",
    "table = table.round(3)"
   ]
  },
  {
   "cell_type": "code",
   "execution_count": 47,
   "metadata": {},
   "outputs": [],
   "source": [
    "multipliers = [1.25, 1.5, 1.75, 2, 3, 4]\n",
    "ranges = []\n",
    "for m in multipliers:\n",
    "  p1, p2, price = liquidity_depth(prices[2], spot_price, m)\n",
    "  ranges.append(len(price)/len(prices[2]))"
   ]
  },
  {
   "cell_type": "code",
   "execution_count": 61,
   "metadata": {},
   "outputs": [
    {
     "data": {
      "text/plain": [
       "(0.3333333333333333,\n",
       " 3,\n",
       " array([[ 1.        ,  2.35794769,  2.14358881,  0.04761905],\n",
       "        [ 2.        ,  2.14358881,  1.9487171 ,  0.04761905],\n",
       "        [ 3.        ,  1.9487171 ,  1.771561  ,  0.04761905],\n",
       "        [ 4.        ,  1.771561  ,  1.61051   ,  0.04761905],\n",
       "        [ 5.        ,  1.61051   ,  1.4641    ,  0.04761905],\n",
       "        [ 6.        ,  1.4641    ,  1.331     ,  0.04761905],\n",
       "        [ 7.        ,  1.331     ,  1.21      ,  0.04761905],\n",
       "        [ 8.        ,  1.21      ,  1.1       ,  0.04761905],\n",
       "        [ 9.        ,  1.1       ,  1.        ,  0.04761905],\n",
       "        [10.        ,  1.        ,  0.90909091,  0.04761905],\n",
       "        [11.        ,  0.90909091,  0.82644628,  0.04761905],\n",
       "        [12.        ,  0.82644628,  0.7513148 ,  0.04761905],\n",
       "        [13.        ,  0.7513148 ,  0.68301346,  0.04761905],\n",
       "        [14.        ,  0.68301346,  0.62092132,  0.04761905],\n",
       "        [15.        ,  0.62092132,  0.56447393,  0.04761905],\n",
       "        [16.        ,  0.56447393,  0.51315812,  0.04761905],\n",
       "        [17.        ,  0.51315812,  0.46650738,  0.04761905],\n",
       "        [18.        ,  0.46650738,  0.42409762,  0.04761905],\n",
       "        [19.        ,  0.42409762,  0.38554329,  0.04761905],\n",
       "        [20.        ,  0.38554329,  0.3504939 ,  0.04761905]]))"
      ]
     },
     "execution_count": 61,
     "metadata": {},
     "output_type": "execute_result"
    }
   ],
   "source": [
    "liquidity_depth(prices[2], spot_price, 3)"
   ]
  },
  {
   "cell_type": "code",
   "execution_count": null,
   "metadata": {},
   "outputs": [],
   "source": []
  },
  {
   "cell_type": "code",
   "execution_count": null,
   "metadata": {},
   "outputs": [],
   "source": []
  },
  {
   "cell_type": "code",
   "execution_count": null,
   "metadata": {},
   "outputs": [],
   "source": []
  }
 ],
 "metadata": {
  "kernelspec": {
   "display_name": "Python 3.6.7 64-bit ('base': conda)",
   "language": "python",
   "name": "python36764bitbasecondab7a8f070add3487eadfe15e733184a9b"
  },
  "language_info": {
   "codemirror_mode": {
    "name": "ipython",
    "version": 3
   },
   "file_extension": ".py",
   "mimetype": "text/x-python",
   "name": "python",
   "nbconvert_exporter": "python",
   "pygments_lexer": "ipython3",
   "version": "3.6.12"
  }
 },
 "nbformat": 4,
 "nbformat_minor": 4
}
